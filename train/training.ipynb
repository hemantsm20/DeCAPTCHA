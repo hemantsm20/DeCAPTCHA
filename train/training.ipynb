{
  "nbformat": 4,
  "nbformat_minor": 0,
  "metadata": {
    "colab": {
      "provenance": []
    },
    "kernelspec": {
      "name": "python3",
      "display_name": "Python 3"
    },
    "language_info": {
      "name": "python"
    }
  },
  "cells": [
    {
      "cell_type": "code",
      "source": [
        "import cv2\n",
        "import numpy as np\n",
        "import os\n"
      ],
      "metadata": {
        "id": "E0BL01YA-ens"
      },
      "execution_count": 76,
      "outputs": []
    },
    {
      "cell_type": "code",
      "source": [
        "#importing the training data after uploading it to google collab\n",
        "filenames = os.listdir('/content/drive/MyDrive/Colab Notebooks/training_images')"
      ],
      "metadata": {
        "id": "0gdltKFMb5zb"
      },
      "execution_count": 85,
      "outputs": []
    },
    {
      "cell_type": "code",
      "execution_count": 79,
      "metadata": {
        "id": "gWxQq7gg6zQY",
        "colab": {
          "base_uri": "https://localhost:8080/"
        },
        "outputId": "ed90fec7-97b4-4244-92d2-0933af08c5bf"
      },
      "outputs": [
        {
          "output_type": "stream",
          "name": "stdout",
          "text": [
            "Images processed and saved to the output folder.\n"
          ]
        }
      ],
      "source": [
        "\n",
        "# Specify the input and output folder paths\n",
        "input_folder = '/content/drive/MyDrive/Colab Notebooks/training_images'\n",
        "output_folder = '/content/cropped_images'\n",
        "\n",
        "# Create the output folder if it doesn't exist\n",
        "os.makedirs(output_folder, exist_ok=True)\n",
        "\n",
        "filenames1 = []\n",
        "\n",
        "for i in range(len(filenames)):\n",
        "    input_image_path = os.path.join(input_folder, f\"{i}.png\")\n",
        "    output_image_path = os.path.join(output_folder, f\"{i}.png\")\n",
        "\n",
        "    I = cv2.imread(input_image_path, 0)\n",
        "\n",
        "    crop = I[0:100, 358:458]\n",
        "\n",
        "    _, I_binary = cv2.threshold(crop, 0, 255, cv2.THRESH_BINARY | cv2.THRESH_OTSU)\n",
        "\n",
        "    H = np.ones((3, 3), dtype=np.float32) / 9\n",
        "\n",
        "    I_fil = I_binary\n",
        "\n",
        "    SE = cv2.getStructuringElement(cv2.MORPH_ELLIPSE, (4, 4))\n",
        "\n",
        "    # Perform morphological closing\n",
        "    Iclosed = cv2.morphologyEx(I_fil, cv2.MORPH_CLOSE, SE)\n",
        "\n",
        "    # Subtract the closed image from the filtered image\n",
        "    Isub = cv2.subtract(Iclosed, I_fil)\n",
        "\n",
        "    # Invert the subtracted image\n",
        "    I_new = cv2.bitwise_not(Isub)\n",
        "\n",
        "    # Subtract the inverted image from the filtered image\n",
        "    I_clear = cv2.bitwise_not((cv2.subtract(I_new, I_fil)))\n",
        "    I_clear_resized = cv2.resize(I_clear, (100, 100))  # Adjust the size as needed\n",
        "\n",
        "    # Save the processed image\n",
        "    cv2.imwrite(output_image_path, I_clear_resized)\n",
        "\n",
        "    filenames1.append(output_image_path)\n",
        "\n",
        "print(\"Images processed and saved to the output folder.\")\n",
        "\n"
      ]
    },
    {
      "cell_type": "code",
      "source": [
        "import shutil\n",
        "image_folder = \"/content/cropped_images\"\n",
        "label_file = '/content/train_labels.txt'\n",
        "output_folder = \"classes\"\n",
        "\n",
        "# Create output folders if they don't exist\n",
        "even_folder = os.path.join(output_folder, \"even\")\n",
        "odd_folder = os.path.join(output_folder, \"odd\")\n",
        "os.makedirs(even_folder, exist_ok=True)\n",
        "os.makedirs(odd_folder, exist_ok=True)\n",
        "\n",
        "# Read the labels from the file\n",
        "with open(label_file, 'r') as file:\n",
        "    labels = file.read().splitlines()\n",
        "\n",
        "# Iterate over the labels and move the corresponding images\n",
        "for i, label in enumerate(labels):\n",
        "    image_name = f\"{i}.png\"\n",
        "    source_path = os.path.join(image_folder, image_name)\n",
        "    if label == \"EVEN\":\n",
        "        destination_path = os.path.join(even_folder, image_name)\n",
        "    elif label == \"ODD\":\n",
        "        destination_path = os.path.join(odd_folder, image_name)\n",
        "    else:\n",
        "        continue  # Skip if the label is neither EVEN nor ODD\n",
        "    shutil.copyfile(source_path, destination_path)\n",
        "\n",
        "print(\"Images separated into 'odd' and 'even' folders.\")"
      ],
      "metadata": {
        "id": "PbGyAGyr7yN2",
        "colab": {
          "base_uri": "https://localhost:8080/"
        },
        "outputId": "78d5e199-78f2-4d6e-c977-d8d5444571cf"
      },
      "execution_count": 81,
      "outputs": [
        {
          "output_type": "stream",
          "name": "stdout",
          "text": [
            "Images separated into 'odd' and 'even' folders.\n"
          ]
        }
      ]
    },
    {
      "cell_type": "code",
      "source": [
        "#just checking the number of odd and even data\n",
        "odd = os.listdir('/content/new/odd')\n",
        "print(len(odd))\n",
        "\n",
        "even = os.listdir('/content/new/even')\n",
        "print(len(even))"
      ],
      "metadata": {
        "colab": {
          "base_uri": "https://localhost:8080/"
        },
        "id": "wUl7xi2YE6Er",
        "outputId": "76718118-a16a-4e76-d3b5-289b73454069"
      },
      "execution_count": 82,
      "outputs": [
        {
          "output_type": "stream",
          "name": "stdout",
          "text": [
            "1017\n",
            "983\n"
          ]
        }
      ]
    },
    {
      "cell_type": "code",
      "source": [
        "# Specify the paths for processed images and labels file\n",
        "images_folder = '/content/cropped_images'\n",
        "labels_file = '/content/train_labels.txt'\n",
        "\n",
        "# Read labels from train_labels.txt file\n",
        "with open(labels_file, 'r') as f:\n",
        "    labels = f.read().splitlines()\n",
        "\n",
        "data = []\n",
        "\n",
        "# Iterate through processed images, flatten and combine with labels\n",
        "for i, label in enumerate(labels):\n",
        "    image_filename = f\"{i}.png\"\n",
        "    image_path = os.path.join(images_folder, image_filename)\n",
        "\n",
        "    cap_img = cv2.imread(image_path, 0)\n",
        "    if cap_img is not None:\n",
        "        image = np.array(cap_img).flatten()\n",
        "        data.append([image, label])\n",
        "    else:\n",
        "        print(f\"Error loading image: {image_path}\")\n",
        "\n",
        "print(\"Image features and labels combined.\")"
      ],
      "metadata": {
        "colab": {
          "base_uri": "https://localhost:8080/"
        },
        "id": "6U_wbt4pHQpR",
        "outputId": "09089a49-3f83-46dc-bb0a-a875567cb1cd"
      },
      "execution_count": 83,
      "outputs": [
        {
          "output_type": "stream",
          "name": "stdout",
          "text": [
            "Image features and labels combined.\n"
          ]
        }
      ]
    },
    {
      "cell_type": "code",
      "source": [
        "import pickle\n",
        "from sklearn.svm import SVC\n",
        "\n",
        "features = []\n",
        "labels = []\n",
        "\n",
        "for feature, label in data:\n",
        "    features.append(feature)\n",
        "    labels.append(label)\n",
        "\n",
        "model = SVC(C=1, kernel='poly', gamma='auto')\n",
        "model.fit(features, labels)\n",
        "\n",
        "#saving the model and using in testing.ipynb\n",
        "pick = open('model.sav', 'wb')\n",
        "pickle.dump(model, pick)\n",
        "pick.close()"
      ],
      "metadata": {
        "id": "ljVsti9IHm_D"
      },
      "execution_count": 84,
      "outputs": []
    }
  ]
}