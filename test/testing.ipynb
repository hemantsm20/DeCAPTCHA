{
  "nbformat": 4,
  "nbformat_minor": 0,
  "metadata": {
    "colab": {
      "provenance": []
    },
    "kernelspec": {
      "name": "python3",
      "display_name": "Python 3"
    },
    "language_info": {
      "name": "python"
    }
  },
  "cells": [
    {
      "cell_type": "code",
      "execution_count": 2,
      "metadata": {
        "colab": {
          "base_uri": "https://localhost:8080/"
        },
        "id": "RgfOW3FQjFCa",
        "outputId": "c8868891-f494-4479-a07e-d16b0cbb2e1d"
      },
      "outputs": [
        {
          "output_type": "execute_result",
          "data": {
            "text/plain": [
              "['ODD', 'ODD', 'ODD', 'EVEN', 'EVEN', 'ODD', 'EVEN']"
            ]
          },
          "metadata": {},
          "execution_count": 2
        }
      ],
      "source": [
        "#for multiple image input(should do a naming convention from 0.png,1.png,2.png,..)\n",
        "\n",
        "import cv2\n",
        "import os\n",
        "import pickle\n",
        "import numpy as np\n",
        "\n",
        "def decaptcha(filenames, input_folder):\n",
        "    filenames1 = []\n",
        "\n",
        "    for i in range(len(filenames)):\n",
        "        input_image_path = os.path.join(input_folder, f\"{i}.png\")\n",
        "\n",
        "        I = cv2.imread(input_image_path, 0)\n",
        "\n",
        "        crop = I[0:100, 358:458]\n",
        "\n",
        "        _, I_binary = cv2.threshold(crop, 0, 255, cv2.THRESH_BINARY | cv2.THRESH_OTSU)\n",
        "\n",
        "        H = np.ones((3, 3), dtype=np.float32) / 9\n",
        "\n",
        "        I_fil = I_binary\n",
        "\n",
        "        SE = cv2.getStructuringElement(cv2.MORPH_ELLIPSE, (4, 4))\n",
        "\n",
        "        # Perform morphological closing\n",
        "        Iclosed = cv2.morphologyEx(I_fil, cv2.MORPH_CLOSE, SE)\n",
        "\n",
        "        # Subtract the closed image from the filtered image\n",
        "        Isub = cv2.subtract(Iclosed, I_fil)\n",
        "\n",
        "        # Invert the subtracted image\n",
        "        I_new = cv2.bitwise_not(Isub)\n",
        "\n",
        "        # Subtract the inverted image from the filtered image\n",
        "        I_clear = cv2.bitwise_not((cv2.subtract(I_new, I_fil)))\n",
        "        I_clear_resized = cv2.resize(I_clear, (100, 100))  # Adjust the size as needed\n",
        "\n",
        "        image1 = np.array(I_clear_resized).flatten()\n",
        "\n",
        "        filenames1.append(image1)\n",
        "\n",
        "    pick = open('model.sav', 'rb')\n",
        "    model = pickle.load(pick)\n",
        "    pick.close()\n",
        "\n",
        "    prediction = model.predict(filenames1)\n",
        "\n",
        "    labels = []\n",
        "\n",
        "    for pred in prediction:\n",
        "        print\n",
        "        if pred == 'EVEN':\n",
        "            labels.append(\"EVEN\")\n",
        "        else:\n",
        "            labels.append(\"ODD\")\n",
        "\n",
        "    return labels\n",
        "\n",
        "input_folder = '/content/drive/MyDrive/Colab Notebooks/test_data'\n",
        "\n",
        "filenames = os.listdir(input_folder)\n",
        "\n",
        "decaptcha(filenames, input_folder)"
      ]
    },
    {
      "cell_type": "code",
      "source": [
        "#for single image input\n",
        "\n",
        "import cv2\n",
        "import os\n",
        "import pickle\n",
        "import numpy as np\n",
        "\n",
        "def decaptcha(input_image_path):\n",
        "    I = cv2.imread(input_image_path, 0)\n",
        "\n",
        "    crop = I[0:100, 358:458]\n",
        "\n",
        "    _, I_binary = cv2.threshold(crop, 0, 255, cv2.THRESH_BINARY | cv2.THRESH_OTSU)\n",
        "\n",
        "    H = np.ones((3, 3), dtype=np.float32) / 9\n",
        "\n",
        "    I_fil = I_binary\n",
        "\n",
        "    SE = cv2.getStructuringElement(cv2.MORPH_ELLIPSE, (4, 4))\n",
        "\n",
        "    # Perform morphological closing\n",
        "    Iclosed = cv2.morphologyEx(I_fil, cv2.MORPH_CLOSE, SE)\n",
        "\n",
        "    # Subtract the closed image from the filtered image\n",
        "    Isub = cv2.subtract(Iclosed, I_fil)\n",
        "\n",
        "    # Invert the subtracted image\n",
        "    I_new = cv2.bitwise_not(Isub)\n",
        "\n",
        "    # Subtract the inverted image from the filtered image\n",
        "    I_clear = cv2.bitwise_not((cv2.subtract(I_new, I_fil)))\n",
        "    I_clear_resized = cv2.resize(I_clear, (100, 100))  # Adjust the size as needed\n",
        "\n",
        "    image1 = np.array(I_clear_resized).flatten()\n",
        "\n",
        "    filenames1 = [image1]\n",
        "\n",
        "    pick = open('model.sav', 'rb')\n",
        "    model = pickle.load(pick)\n",
        "    pick.close()\n",
        "\n",
        "    prediction = model.predict(filenames1)\n",
        "\n",
        "    if prediction[0] == 'EVEN':\n",
        "        predicted_label = \"EVEN\"\n",
        "    else:\n",
        "        predicted_label = \"ODD\"\n",
        "\n",
        "    return predicted_label\n",
        "\n",
        "input_image_path = '/content/drive/MyDrive/Colab Notebooks/test_data/3.png'  # Replace with the actual image path\n",
        "predicted_label = decaptcha(input_image_path)\n",
        "print(f\"Predicted Label: {predicted_label}\")"
      ],
      "metadata": {
        "colab": {
          "base_uri": "https://localhost:8080/"
        },
        "id": "P3mruk2xjM7g",
        "outputId": "1d8011c4-6d93-48fe-f934-a4a906abf063"
      },
      "execution_count": 4,
      "outputs": [
        {
          "output_type": "stream",
          "name": "stdout",
          "text": [
            "Predicted Label: EVEN\n"
          ]
        }
      ]
    }
  ]
}